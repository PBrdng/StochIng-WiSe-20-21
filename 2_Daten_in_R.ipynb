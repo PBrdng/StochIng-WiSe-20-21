{
 "cells": [
  {
   "cell_type": "markdown",
   "metadata": {},
   "source": [
    "# Daten in R"
   ]
  },
  {
   "cell_type": "markdown",
   "metadata": {},
   "source": [
    "---\n",
    "\n",
    "#### Quantitative Merkmale\n",
    "\n",
    "Quantitative Merkmale werden in `R` mit der Klasse `numeric` beschrieben:"
   ]
  },
  {
   "cell_type": "code",
   "execution_count": 1,
   "metadata": {},
   "outputs": [
    {
     "data": {
      "text/html": [
       "'numeric'"
      ],
      "text/latex": [
       "'numeric'"
      ],
      "text/markdown": [
       "'numeric'"
      ],
      "text/plain": [
       "[1] \"numeric\""
      ]
     },
     "metadata": {},
     "output_type": "display_data"
    }
   ],
   "source": [
    "v = c(2, 1.1, 3, 2, 5)\n",
    "class(v)"
   ]
  },
  {
   "cell_type": "markdown",
   "metadata": {},
   "source": [
    "---\n",
    "\n",
    "#### Nominale Merkmale\n",
    "\n",
    "Nominale Merkmale werden in `R` mit der Klasse `factor` beschrieben:"
   ]
  },
  {
   "cell_type": "code",
   "execution_count": 2,
   "metadata": {},
   "outputs": [
    {
     "data": {
      "text/html": [
       "<style>\n",
       ".list-inline {list-style: none; margin:0; padding: 0}\n",
       ".list-inline>li {display: inline-block}\n",
       ".list-inline>li:not(:last-child)::after {content: \"\\00b7\"; padding: 0 .5ex}\n",
       "</style>\n",
       "<ol class=list-inline><li>'Kassel'</li><li>'Kassel'</li><li>'Berlin'</li><li>'Hamburg'</li><li>'München'</li></ol>\n"
      ],
      "text/latex": [
       "\\begin{enumerate*}\n",
       "\\item 'Kassel'\n",
       "\\item 'Kassel'\n",
       "\\item 'Berlin'\n",
       "\\item 'Hamburg'\n",
       "\\item 'München'\n",
       "\\end{enumerate*}\n"
      ],
      "text/markdown": [
       "1. 'Kassel'\n",
       "2. 'Kassel'\n",
       "3. 'Berlin'\n",
       "4. 'Hamburg'\n",
       "5. 'München'\n",
       "\n",
       "\n"
      ],
      "text/plain": [
       "[1] \"Kassel\"  \"Kassel\"  \"Berlin\"  \"Hamburg\" \"München\""
      ]
     },
     "metadata": {},
     "output_type": "display_data"
    }
   ],
   "source": [
    "w = c(\"Kassel\", \"Kassel\", \"Berlin\", \"Hamburg\", \"München\")\n",
    "#class(w)\n",
    "w"
   ]
  },
  {
   "cell_type": "markdown",
   "metadata": {},
   "source": [
    "`w` ist hier ein Vektor von `charactern`(= Buchstabenketten). \n",
    "\n",
    "`factor` sorgt für die Interpretation der Zeichenketten als nominale Merkmale. "
   ]
  },
  {
   "cell_type": "code",
   "execution_count": 3,
   "metadata": {},
   "outputs": [],
   "source": [
    "z = factor(w)"
   ]
  },
  {
   "cell_type": "code",
   "execution_count": 4,
   "metadata": {},
   "outputs": [
    {
     "data": {
      "text/html": [
       "'factor'"
      ],
      "text/latex": [
       "'factor'"
      ],
      "text/markdown": [
       "'factor'"
      ],
      "text/plain": [
       "[1] \"factor\""
      ]
     },
     "metadata": {},
     "output_type": "display_data"
    }
   ],
   "source": [
    "class(z)"
   ]
  },
  {
   "cell_type": "code",
   "execution_count": 5,
   "metadata": {},
   "outputs": [
    {
     "data": {
      "text/html": [
       "<style>\n",
       ".list-inline {list-style: none; margin:0; padding: 0}\n",
       ".list-inline>li {display: inline-block}\n",
       ".list-inline>li:not(:last-child)::after {content: \"\\00b7\"; padding: 0 .5ex}\n",
       "</style>\n",
       "<ol class=list-inline><li>Kassel</li><li>Kassel</li><li>Berlin</li><li>Hamburg</li><li>München</li></ol>\n",
       "\n",
       "<details>\n",
       "\t<summary style=display:list-item;cursor:pointer>\n",
       "\t\t<strong>Levels</strong>:\n",
       "\t</summary>\n",
       "\t<style>\n",
       "\t.list-inline {list-style: none; margin:0; padding: 0}\n",
       "\t.list-inline>li {display: inline-block}\n",
       "\t.list-inline>li:not(:last-child)::after {content: \"\\00b7\"; padding: 0 .5ex}\n",
       "\t</style>\n",
       "\t<ol class=list-inline><li>'Berlin'</li><li>'Hamburg'</li><li>'Kassel'</li><li>'München'</li></ol>\n",
       "</details>"
      ],
      "text/latex": [
       "\\begin{enumerate*}\n",
       "\\item Kassel\n",
       "\\item Kassel\n",
       "\\item Berlin\n",
       "\\item Hamburg\n",
       "\\item München\n",
       "\\end{enumerate*}\n",
       "\n",
       "\\emph{Levels}: \\begin{enumerate*}\n",
       "\\item 'Berlin'\n",
       "\\item 'Hamburg'\n",
       "\\item 'Kassel'\n",
       "\\item 'München'\n",
       "\\end{enumerate*}\n"
      ],
      "text/markdown": [
       "1. Kassel\n",
       "2. Kassel\n",
       "3. Berlin\n",
       "4. Hamburg\n",
       "5. München\n",
       "\n",
       "\n",
       "\n",
       "**Levels**: 1. 'Berlin'\n",
       "2. 'Hamburg'\n",
       "3. 'Kassel'\n",
       "4. 'München'\n",
       "\n",
       "\n"
      ],
      "text/plain": [
       "[1] Kassel  Kassel  Berlin  Hamburg München\n",
       "Levels: Berlin Hamburg Kassel München"
      ]
     },
     "metadata": {},
     "output_type": "display_data"
    }
   ],
   "source": [
    "z"
   ]
  },
  {
   "cell_type": "markdown",
   "metadata": {},
   "source": [
    "---\n",
    "\n",
    "#### Ordinale Merkmale\n",
    "\n",
    "Ordinale Merkmale werden in `R`mit der Klasse `ordered` beschrieben:"
   ]
  },
  {
   "cell_type": "code",
   "execution_count": 6,
   "metadata": {},
   "outputs": [
    {
     "data": {
      "text/html": [
       "<style>\n",
       ".list-inline {list-style: none; margin:0; padding: 0}\n",
       ".list-inline>li {display: inline-block}\n",
       ".list-inline>li:not(:last-child)::after {content: \"\\00b7\"; padding: 0 .5ex}\n",
       "</style>\n",
       "<ol class=list-inline><li>gering</li><li>mittel</li><li>gering</li><li>hoch</li><li>hoch</li></ol>\n",
       "\n",
       "<details>\n",
       "\t<summary style=display:list-item;cursor:pointer>\n",
       "\t\t<strong>Levels</strong>:\n",
       "\t</summary>\n",
       "\t<style>\n",
       "\t.list-inline {list-style: none; margin:0; padding: 0}\n",
       "\t.list-inline>li {display: inline-block}\n",
       "\t.list-inline>li:not(:last-child)::after {content: \"\\00b7\"; padding: 0 .5ex}\n",
       "\t</style>\n",
       "\t<ol class=list-inline><li>'gering'</li><li>'hoch'</li><li>'mittel'</li></ol>\n",
       "</details>"
      ],
      "text/latex": [
       "\\begin{enumerate*}\n",
       "\\item gering\n",
       "\\item mittel\n",
       "\\item gering\n",
       "\\item hoch\n",
       "\\item hoch\n",
       "\\end{enumerate*}\n",
       "\n",
       "\\emph{Levels}: \\begin{enumerate*}\n",
       "\\item 'gering'\n",
       "\\item 'hoch'\n",
       "\\item 'mittel'\n",
       "\\end{enumerate*}\n"
      ],
      "text/markdown": [
       "1. gering\n",
       "2. mittel\n",
       "3. gering\n",
       "4. hoch\n",
       "5. hoch\n",
       "\n",
       "\n",
       "\n",
       "**Levels**: 1. 'gering'\n",
       "2. 'hoch'\n",
       "3. 'mittel'\n",
       "\n",
       "\n"
      ],
      "text/plain": [
       "[1] gering mittel gering hoch   hoch  \n",
       "Levels: gering < hoch < mittel"
      ]
     },
     "metadata": {},
     "output_type": "display_data"
    }
   ],
   "source": [
    "u = c(\"gering\", \"mittel\", \"gering\", \"hoch\", \"hoch\")\n",
    "s = ordered(u)\n",
    "s"
   ]
  },
  {
   "cell_type": "markdown",
   "metadata": {},
   "source": [
    "Die Merkmale sind nicht in der Reihenfolge, die wir wollen. Dies lässt sich wie folgt ändern:"
   ]
  },
  {
   "cell_type": "code",
   "execution_count": 7,
   "metadata": {},
   "outputs": [
    {
     "data": {
      "text/html": [
       "<style>\n",
       ".list-inline {list-style: none; margin:0; padding: 0}\n",
       ".list-inline>li {display: inline-block}\n",
       ".list-inline>li:not(:last-child)::after {content: \"\\00b7\"; padding: 0 .5ex}\n",
       "</style>\n",
       "<ol class=list-inline><li>gering</li><li>mittel</li><li>gering</li><li>hoch</li><li>hoch</li></ol>\n",
       "\n",
       "<details>\n",
       "\t<summary style=display:list-item;cursor:pointer>\n",
       "\t\t<strong>Levels</strong>:\n",
       "\t</summary>\n",
       "\t<style>\n",
       "\t.list-inline {list-style: none; margin:0; padding: 0}\n",
       "\t.list-inline>li {display: inline-block}\n",
       "\t.list-inline>li:not(:last-child)::after {content: \"\\00b7\"; padding: 0 .5ex}\n",
       "\t</style>\n",
       "\t<ol class=list-inline><li>'gering'</li><li>'mittel'</li><li>'hoch'</li></ol>\n",
       "</details>"
      ],
      "text/latex": [
       "\\begin{enumerate*}\n",
       "\\item gering\n",
       "\\item mittel\n",
       "\\item gering\n",
       "\\item hoch\n",
       "\\item hoch\n",
       "\\end{enumerate*}\n",
       "\n",
       "\\emph{Levels}: \\begin{enumerate*}\n",
       "\\item 'gering'\n",
       "\\item 'mittel'\n",
       "\\item 'hoch'\n",
       "\\end{enumerate*}\n"
      ],
      "text/markdown": [
       "1. gering\n",
       "2. mittel\n",
       "3. gering\n",
       "4. hoch\n",
       "5. hoch\n",
       "\n",
       "\n",
       "\n",
       "**Levels**: 1. 'gering'\n",
       "2. 'mittel'\n",
       "3. 'hoch'\n",
       "\n",
       "\n"
      ],
      "text/plain": [
       "[1] gering mittel gering hoch   hoch  \n",
       "Levels: gering < mittel < hoch"
      ]
     },
     "metadata": {},
     "output_type": "display_data"
    }
   ],
   "source": [
    "s = ordered(u, levels = c(\"gering\", \"mittel\", \"hoch\"))\n",
    "s"
   ]
  },
  {
   "cell_type": "markdown",
   "metadata": {},
   "source": [
    "Alternativ:"
   ]
  },
  {
   "cell_type": "code",
   "execution_count": 8,
   "metadata": {},
   "outputs": [
    {
     "data": {
      "text/html": [
       "<style>\n",
       ".list-inline {list-style: none; margin:0; padding: 0}\n",
       ".list-inline>li {display: inline-block}\n",
       ".list-inline>li:not(:last-child)::after {content: \"\\00b7\"; padding: 0 .5ex}\n",
       "</style>\n",
       "<ol class=list-inline><li>gering</li><li>mittel</li><li>gering</li><li>hoch</li><li>hoch</li></ol>\n",
       "\n",
       "<details>\n",
       "\t<summary style=display:list-item;cursor:pointer>\n",
       "\t\t<strong>Levels</strong>:\n",
       "\t</summary>\n",
       "\t<style>\n",
       "\t.list-inline {list-style: none; margin:0; padding: 0}\n",
       "\t.list-inline>li {display: inline-block}\n",
       "\t.list-inline>li:not(:last-child)::after {content: \"\\00b7\"; padding: 0 .5ex}\n",
       "\t</style>\n",
       "\t<ol class=list-inline><li>'gering'</li><li>'mittel'</li><li>'hoch'</li></ol>\n",
       "</details>"
      ],
      "text/latex": [
       "\\begin{enumerate*}\n",
       "\\item gering\n",
       "\\item mittel\n",
       "\\item gering\n",
       "\\item hoch\n",
       "\\item hoch\n",
       "\\end{enumerate*}\n",
       "\n",
       "\\emph{Levels}: \\begin{enumerate*}\n",
       "\\item 'gering'\n",
       "\\item 'mittel'\n",
       "\\item 'hoch'\n",
       "\\end{enumerate*}\n"
      ],
      "text/markdown": [
       "1. gering\n",
       "2. mittel\n",
       "3. gering\n",
       "4. hoch\n",
       "5. hoch\n",
       "\n",
       "\n",
       "\n",
       "**Levels**: 1. 'gering'\n",
       "2. 'mittel'\n",
       "3. 'hoch'\n",
       "\n",
       "\n"
      ],
      "text/plain": [
       "[1] gering mittel gering hoch   hoch  \n",
       "Levels: gering < mittel < hoch"
      ]
     },
     "metadata": {},
     "output_type": "display_data"
    }
   ],
   "source": [
    "s = ordered(u, levels = u[c(1,2,4)])\n",
    "s"
   ]
  },
  {
   "cell_type": "markdown",
   "metadata": {},
   "source": [
    "---\n",
    "\n",
    "#### Multivariate Daten (= mehrere Merkmale)"
   ]
  },
  {
   "cell_type": "markdown",
   "metadata": {},
   "source": [
    "Multivariate Daten werden in Tabellenform abgelegt. Dabei entspricht jede Zeile einem Einzelobjekt $e_j$, jede Spalte entspricht einem Merkmal.\n",
    "\n",
    "Erinnerung:"
   ]
  },
  {
   "cell_type": "code",
   "execution_count": 9,
   "metadata": {},
   "outputs": [
    {
     "name": "stdout",
     "output_type": "stream",
     "text": [
      "[1] 2.0 1.1 3.0 2.0 5.0\n",
      "[1] gering mittel gering hoch   hoch  \n",
      "Levels: gering < mittel < hoch\n",
      "[1] Kassel  Kassel  Berlin  Hamburg München\n",
      "Levels: Berlin Hamburg Kassel München\n"
     ]
    }
   ],
   "source": [
    "print(v); print(s); print(z)"
   ]
  },
  {
   "cell_type": "markdown",
   "metadata": {},
   "source": [
    "Die drei Merkmale $v,s,z$ können wie folgt in einer gemeinsamen Tabelle zusammengefasst werden:"
   ]
  },
  {
   "cell_type": "code",
   "execution_count": 10,
   "metadata": {},
   "outputs": [
    {
     "data": {
      "text/html": [
       "<table>\n",
       "<caption>A data.frame: 5 × 3</caption>\n",
       "<thead>\n",
       "\t<tr><th scope=col>v</th><th scope=col>s</th><th scope=col>z</th></tr>\n",
       "\t<tr><th scope=col>&lt;dbl&gt;</th><th scope=col>&lt;ord&gt;</th><th scope=col>&lt;fct&gt;</th></tr>\n",
       "</thead>\n",
       "<tbody>\n",
       "\t<tr><td>2.0</td><td>gering</td><td>Kassel </td></tr>\n",
       "\t<tr><td>1.1</td><td>mittel</td><td>Kassel </td></tr>\n",
       "\t<tr><td>3.0</td><td>gering</td><td>Berlin </td></tr>\n",
       "\t<tr><td>2.0</td><td>hoch  </td><td>Hamburg</td></tr>\n",
       "\t<tr><td>5.0</td><td>hoch  </td><td>München</td></tr>\n",
       "</tbody>\n",
       "</table>\n"
      ],
      "text/latex": [
       "A data.frame: 5 × 3\n",
       "\\begin{tabular}{lll}\n",
       " v & s & z\\\\\n",
       " <dbl> & <ord> & <fct>\\\\\n",
       "\\hline\n",
       "\t 2.0 & gering & Kassel \\\\\n",
       "\t 1.1 & mittel & Kassel \\\\\n",
       "\t 3.0 & gering & Berlin \\\\\n",
       "\t 2.0 & hoch   & Hamburg\\\\\n",
       "\t 5.0 & hoch   & München\\\\\n",
       "\\end{tabular}\n"
      ],
      "text/markdown": [
       "\n",
       "A data.frame: 5 × 3\n",
       "\n",
       "| v &lt;dbl&gt; | s &lt;ord&gt; | z &lt;fct&gt; |\n",
       "|---|---|---|\n",
       "| 2.0 | gering | Kassel  |\n",
       "| 1.1 | mittel | Kassel  |\n",
       "| 3.0 | gering | Berlin  |\n",
       "| 2.0 | hoch   | Hamburg |\n",
       "| 5.0 | hoch   | München |\n",
       "\n"
      ],
      "text/plain": [
       "  v   s      z      \n",
       "1 2.0 gering Kassel \n",
       "2 1.1 mittel Kassel \n",
       "3 3.0 gering Berlin \n",
       "4 2.0 hoch   Hamburg\n",
       "5 5.0 hoch   München"
      ]
     },
     "metadata": {},
     "output_type": "display_data"
    }
   ],
   "source": [
    "tabelle = data.frame(v, s, z)\n",
    "tabelle"
   ]
  },
  {
   "cell_type": "markdown",
   "metadata": {},
   "source": [
    "Zugriff auf Einträge der Tabelle funktioniert wie folgt:"
   ]
  },
  {
   "cell_type": "code",
   "execution_count": 11,
   "metadata": {},
   "outputs": [
    {
     "data": {
      "text/html": [
       "<table>\n",
       "<caption>A data.frame: 1 × 3</caption>\n",
       "<thead>\n",
       "\t<tr><th></th><th scope=col>v</th><th scope=col>s</th><th scope=col>z</th></tr>\n",
       "\t<tr><th></th><th scope=col>&lt;dbl&gt;</th><th scope=col>&lt;ord&gt;</th><th scope=col>&lt;fct&gt;</th></tr>\n",
       "</thead>\n",
       "<tbody>\n",
       "\t<tr><th scope=row>1</th><td>2</td><td>gering</td><td>Kassel</td></tr>\n",
       "</tbody>\n",
       "</table>\n"
      ],
      "text/latex": [
       "A data.frame: 1 × 3\n",
       "\\begin{tabular}{r|lll}\n",
       "  & v & s & z\\\\\n",
       "  & <dbl> & <ord> & <fct>\\\\\n",
       "\\hline\n",
       "\t1 & 2 & gering & Kassel\\\\\n",
       "\\end{tabular}\n"
      ],
      "text/markdown": [
       "\n",
       "A data.frame: 1 × 3\n",
       "\n",
       "| <!--/--> | v &lt;dbl&gt; | s &lt;ord&gt; | z &lt;fct&gt; |\n",
       "|---|---|---|---|\n",
       "| 1 | 2 | gering | Kassel |\n",
       "\n"
      ],
      "text/plain": [
       "  v s      z     \n",
       "1 2 gering Kassel"
      ]
     },
     "metadata": {},
     "output_type": "display_data"
    }
   ],
   "source": [
    "tabelle[1, ]"
   ]
  },
  {
   "cell_type": "code",
   "execution_count": 12,
   "metadata": {},
   "outputs": [
    {
     "data": {
      "text/html": [
       "<style>\n",
       ".list-inline {list-style: none; margin:0; padding: 0}\n",
       ".list-inline>li {display: inline-block}\n",
       ".list-inline>li:not(:last-child)::after {content: \"\\00b7\"; padding: 0 .5ex}\n",
       "</style>\n",
       "<ol class=list-inline><li>gering</li><li>mittel</li><li>gering</li><li>hoch</li><li>hoch</li></ol>\n",
       "\n",
       "<details>\n",
       "\t<summary style=display:list-item;cursor:pointer>\n",
       "\t\t<strong>Levels</strong>:\n",
       "\t</summary>\n",
       "\t<style>\n",
       "\t.list-inline {list-style: none; margin:0; padding: 0}\n",
       "\t.list-inline>li {display: inline-block}\n",
       "\t.list-inline>li:not(:last-child)::after {content: \"\\00b7\"; padding: 0 .5ex}\n",
       "\t</style>\n",
       "\t<ol class=list-inline><li>'gering'</li><li>'mittel'</li><li>'hoch'</li></ol>\n",
       "</details>"
      ],
      "text/latex": [
       "\\begin{enumerate*}\n",
       "\\item gering\n",
       "\\item mittel\n",
       "\\item gering\n",
       "\\item hoch\n",
       "\\item hoch\n",
       "\\end{enumerate*}\n",
       "\n",
       "\\emph{Levels}: \\begin{enumerate*}\n",
       "\\item 'gering'\n",
       "\\item 'mittel'\n",
       "\\item 'hoch'\n",
       "\\end{enumerate*}\n"
      ],
      "text/markdown": [
       "1. gering\n",
       "2. mittel\n",
       "3. gering\n",
       "4. hoch\n",
       "5. hoch\n",
       "\n",
       "\n",
       "\n",
       "**Levels**: 1. 'gering'\n",
       "2. 'mittel'\n",
       "3. 'hoch'\n",
       "\n",
       "\n"
      ],
      "text/plain": [
       "[1] gering mittel gering hoch   hoch  \n",
       "Levels: gering < mittel < hoch"
      ]
     },
     "metadata": {},
     "output_type": "display_data"
    }
   ],
   "source": [
    "tabelle[ ,2]"
   ]
  },
  {
   "cell_type": "code",
   "execution_count": 13,
   "metadata": {},
   "outputs": [
    {
     "data": {
      "text/html": [
       "<table>\n",
       "<caption>A data.frame: 3 × 3</caption>\n",
       "<thead>\n",
       "\t<tr><th></th><th scope=col>v</th><th scope=col>s</th><th scope=col>z</th></tr>\n",
       "\t<tr><th></th><th scope=col>&lt;dbl&gt;</th><th scope=col>&lt;ord&gt;</th><th scope=col>&lt;fct&gt;</th></tr>\n",
       "</thead>\n",
       "<tbody>\n",
       "\t<tr><th scope=row>1</th><td>2.0</td><td>gering</td><td>Kassel </td></tr>\n",
       "\t<tr><th scope=row>2</th><td>1.1</td><td>mittel</td><td>Kassel </td></tr>\n",
       "\t<tr><th scope=row>4</th><td>2.0</td><td>hoch  </td><td>Hamburg</td></tr>\n",
       "</tbody>\n",
       "</table>\n"
      ],
      "text/latex": [
       "A data.frame: 3 × 3\n",
       "\\begin{tabular}{r|lll}\n",
       "  & v & s & z\\\\\n",
       "  & <dbl> & <ord> & <fct>\\\\\n",
       "\\hline\n",
       "\t1 & 2.0 & gering & Kassel \\\\\n",
       "\t2 & 1.1 & mittel & Kassel \\\\\n",
       "\t4 & 2.0 & hoch   & Hamburg\\\\\n",
       "\\end{tabular}\n"
      ],
      "text/markdown": [
       "\n",
       "A data.frame: 3 × 3\n",
       "\n",
       "| <!--/--> | v &lt;dbl&gt; | s &lt;ord&gt; | z &lt;fct&gt; |\n",
       "|---|---|---|---|\n",
       "| 1 | 2.0 | gering | Kassel  |\n",
       "| 2 | 1.1 | mittel | Kassel  |\n",
       "| 4 | 2.0 | hoch   | Hamburg |\n",
       "\n"
      ],
      "text/plain": [
       "  v   s      z      \n",
       "1 2.0 gering Kassel \n",
       "2 1.1 mittel Kassel \n",
       "4 2.0 hoch   Hamburg"
      ]
     },
     "metadata": {},
     "output_type": "display_data"
    }
   ],
   "source": [
    "subset(tabelle,v<=2.5)"
   ]
  },
  {
   "cell_type": "code",
   "execution_count": null,
   "metadata": {},
   "outputs": [],
   "source": []
  }
 ],
 "metadata": {
  "kernelspec": {
   "display_name": "R",
   "language": "R",
   "name": "ir"
  },
  "language_info": {
   "codemirror_mode": "r",
   "file_extension": ".r",
   "mimetype": "text/x-r-source",
   "name": "R",
   "pygments_lexer": "r",
   "version": "3.6.1"
  }
 },
 "nbformat": 4,
 "nbformat_minor": 4
}
