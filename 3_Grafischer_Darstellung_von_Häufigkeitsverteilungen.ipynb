{
 "cells": [
  {
   "cell_type": "markdown",
   "metadata": {},
   "source": [
    "# Grafische Darstellung von Häufigkeitsverteilungen"
   ]
  },
  {
   "cell_type": "markdown",
   "metadata": {},
   "source": [
    "Wir definieren drei Vektoren $v,z,s$, die jeweils quantitative, nominale und ordinale Merkmale enthalten"
   ]
  },
  {
   "cell_type": "code",
   "execution_count": null,
   "metadata": {},
   "outputs": [],
   "source": [
    "v = c(2, 1.1, 3, 2, 5)\n",
    "z = factor(c(\"Kassel\", \"Kassel\", \"Berlin\", \"Hamburg\", \"München\"))\n",
    "s = ordered(c(\"gering\", \"mittel\", \"gering\", \"hoch\", \"hoch\"), levels = c(\"gering\", \"mittel\", \"hoch\"))"
   ]
  },
  {
   "cell_type": "markdown",
   "metadata": {},
   "source": [
    "---"
   ]
  },
  {
   "cell_type": "markdown",
   "metadata": {},
   "source": [
    "#### Häufigkeiten von Merkmalen\n",
    "\n",
    "Die **absoluten** Häufigkeiten von $s$ werden wie folgt berechnet:"
   ]
  },
  {
   "cell_type": "code",
   "execution_count": null,
   "metadata": {},
   "outputs": [],
   "source": [
    "table(s)"
   ]
  },
  {
   "cell_type": "markdown",
   "metadata": {},
   "source": [
    "Die **relativen** Häufigkeiten:"
   ]
  },
  {
   "cell_type": "code",
   "execution_count": null,
   "metadata": {},
   "outputs": [],
   "source": [
    "table(s) / length(s)"
   ]
  },
  {
   "cell_type": "markdown",
   "metadata": {},
   "source": [
    "---\n",
    "\n",
    "#### Balkendiagramme"
   ]
  },
  {
   "cell_type": "markdown",
   "metadata": {},
   "source": [
    "Balkendiagramme visualisieren die Häufigkeiten von **qualitativen** (= nominal oder ordinal) Daten.\n",
    "\n",
    "Die Höhen der Balken sind gegeben durch die absoluten bzw. relativen Häufigkeiten der Merkmalsausprägungen."
   ]
  },
  {
   "cell_type": "code",
   "execution_count": null,
   "metadata": {},
   "outputs": [],
   "source": [
    "barplot(table(s), ylab = \"absolute Häufigkeit\")"
   ]
  },
  {
   "cell_type": "markdown",
   "metadata": {},
   "source": [
    "Mit dem `mfrow`command können wir mehrere Plots nebeneinander darstellen"
   ]
  },
  {
   "cell_type": "code",
   "execution_count": null,
   "metadata": {},
   "outputs": [],
   "source": [
    "par(mfrow = c(1,2))\n",
    "barplot(table(z), col = \"steelblue\", las = 2) \n",
    "barplot(table(s), col = \"indianred\", las = 2)"
   ]
  },
  {
   "cell_type": "markdown",
   "metadata": {},
   "source": [
    "--- \n",
    "\n",
    "#### Stabdiagramme\n",
    "\n",
    "Balkendiagramme visualisieren die Häufigkeiten von **quantitativen diskreten** (= quantitative Daten deren Wertebereich diskret ist) Daten.\n",
    "\n",
    "Die Höhen der Stäbe sind gegeben durch die absoluten bzw. relativen Häufigkeiten der Merkmalsausprägungen. Die Stäbe sind genau über den Punkten auf der $x$-Achse positioniert, wo sich die Merkmalsausprägungen befinden."
   ]
  },
  {
   "cell_type": "code",
   "execution_count": null,
   "metadata": {},
   "outputs": [],
   "source": [
    "plot(table(v)/length(v), type=\"h\", xlim=c(1,6), ylab=\"relative Häufigkeit\", main=\"Stabdiagramm\")"
   ]
  },
  {
   "cell_type": "markdown",
   "metadata": {},
   "source": [
    "---\n",
    "\n",
    "#### Histogramme\n",
    "\n",
    "Histogramm $=$ grafische Darstellung der Häufigkeitsverteilung **quantitativer stetiger** Daten.\n",
    "\n",
    "\n",
    "Seien $\\{x_1,\\ldots,x_N\\}$ quantitative stetige Daten.\n",
    "\n",
    "Auf der $x$-Achse werden Intervalle $K_1,\\ldots,K_n$ abgesteckt. \n",
    "\n",
    "Über dem Intervall $K_j$ wird ein Rechteck geplotted.\n",
    "\n",
    "Flächeninhalt des Rechtecks über Intervall $K_j$ ist proportional zur relativen Häufigkeit $\\frac{1}{N}\\cdot \\# \\{i \\mid x_i \\in K_j\\}$."
   ]
  },
  {
   "cell_type": "code",
   "execution_count": null,
   "metadata": {},
   "outputs": [],
   "source": [
    "hist(v, xlab = \"Einträge von v\", ylab = \"absolute Häufigkeit\", main = \"Histogramm\", col = \"steelblue\")"
   ]
  },
  {
   "cell_type": "markdown",
   "metadata": {},
   "source": [
    "`R` wähle die Intervall automatisch anhand der Daten. Wir können manuelle Intervalle mit dem Befehl `breaks`forcieren."
   ]
  },
  {
   "cell_type": "code",
   "execution_count": null,
   "metadata": {},
   "outputs": [],
   "source": [
    "hist(v, xlab = \"Einträge von v\", ylab = \"absolute Häufigkeit\", main = \"Histogramm\", col = \"steelblue\", breaks = seq(0, 6, 0.5))"
   ]
  },
  {
   "cell_type": "markdown",
   "metadata": {},
   "source": [
    "Für relative Häufigkeiten setzen wir `freq = FALSE`."
   ]
  },
  {
   "cell_type": "code",
   "execution_count": null,
   "metadata": {},
   "outputs": [],
   "source": [
    "hist(v, xlab = \"Einträge von v\", ylab = \"absolute Häufigkeit\", main = \"Histogramm\", col = \"steelblue\", breaks = seq(0, 6, 0.5), freq = FALSE)"
   ]
  },
  {
   "cell_type": "markdown",
   "metadata": {},
   "source": [
    "---\n",
    "\n",
    "#### Empirische Verteilungsfunktion\n",
    "\n",
    "Die empirische Verteilungsfunktion $F_N(x)$ für einen Satz quantitativer Daten $\\{x_1,\\ldots, x_N\\}$ ist definiert als\n",
    "\n",
    "$$ F_N(x) := \\frac{1}{N} \\cdot \\# \\{i \\mid x_i<x\\}.$$\n",
    "\n",
    "$F_N(x)$ misst also wieviele Daten kleiner als $x$ sind. \n",
    "\n",
    "In `R` können wir die empirische Verteilungsfunktion mit dem Befehl `ecdf` erstellen. (\"ecdf\" steht für *empirical cumulative distribution function*)."
   ]
  },
  {
   "cell_type": "code",
   "execution_count": null,
   "metadata": {},
   "outputs": [],
   "source": [
    "x = c(0.5, 4.4, 2.1, 3.3)\n",
    "F = ecdf(x)\n",
    "plot(F, main = \"empirische Verteilungsfunktion\")"
   ]
  },
  {
   "cell_type": "markdown",
   "metadata": {},
   "source": [
    "---"
   ]
  }
 ],
 "metadata": {
  "kernelspec": {
   "display_name": "R",
   "language": "R",
   "name": "ir"
  },
  "language_info": {
   "codemirror_mode": "r",
   "file_extension": ".r",
   "mimetype": "text/x-r-source",
   "name": "R",
   "pygments_lexer": "r",
   "version": "3.6.1"
  }
 },
 "nbformat": 4,
 "nbformat_minor": 4
}
