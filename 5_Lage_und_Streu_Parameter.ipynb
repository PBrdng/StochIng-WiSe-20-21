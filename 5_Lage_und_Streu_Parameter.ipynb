{
 "cells": [
  {
   "cell_type": "markdown",
   "metadata": {},
   "source": [
    "# Lage- und Streuparameter\n",
    "\n",
    "Wir wollen die grundlegenden Kennzahlen zur Lage und Streuung einer Stichprobe anhand eines Beispiels verstehen.\n",
    "\n",
    "Als Datensatz nehmen wir die Klimadaten des deutschen Wetterdienstes (DWD). Das package `rdwd` kann Daten vom DWD laden."
   ]
  },
  {
   "cell_type": "code",
   "execution_count": null,
   "metadata": {},
   "outputs": [],
   "source": [
    "#install.packages(\"rdwd\") # auskommentieren, falls rdwd noch nicht installiert\n",
    "library(rdwd)"
   ]
  },
  {
   "cell_type": "markdown",
   "metadata": {},
   "source": [
    "Die [Website des Packages](https://bookdown.org/brry/rdwd/) erklärt mit welchen Befehlen Daten geladen werden können. \n",
    "\n",
    "Wir untersuchen die jährlichen (`res = \"annual\"`) Klimadaten (`var = \"kl\"`) der Wetterstation in Potsdam."
   ]
  },
  {
   "cell_type": "code",
   "execution_count": null,
   "metadata": {},
   "outputs": [],
   "source": [
    "# select a dataset (e.g. last year's daily climate data from Potsdam city):\n",
    "link <- selectDWD(\"Potsdam\", res=\"annual\", var=\"kl\", per=\"historical\");\n",
    "# Actually download that dataset, returning the local storage file name:\n",
    "file <- dataDWD(link, read=FALSE);\n",
    "# Read the file from the zip folder:\n",
    "clim <- readDWD(file, varnames=TRUE);"
   ]
  },
  {
   "cell_type": "markdown",
   "metadata": {},
   "source": [
    "---\n",
    "\n",
    "Wir untersuchen nun zunächst die Variablen in `clim`."
   ]
  },
  {
   "cell_type": "code",
   "execution_count": null,
   "metadata": {},
   "outputs": [],
   "source": [
    "str(clim)"
   ]
  },
  {
   "cell_type": "markdown",
   "metadata": {},
   "source": [
    "---\n",
    "\n",
    "Die Funktion `summary`liefert eine Zusammenfassung der wichtigsten Informationen."
   ]
  },
  {
   "cell_type": "code",
   "execution_count": null,
   "metadata": {},
   "outputs": [],
   "source": [
    "summary(clim)"
   ]
  },
  {
   "cell_type": "markdown",
   "metadata": {},
   "source": [
    "---\n",
    "\n",
    "# Verteilung der Temperaturdaten\n",
    "\n",
    "Im Folgenden wollen wir den Datensatz zur maximalen Lufttemperatur genauer untersuchen."
   ]
  },
  {
   "cell_type": "code",
   "execution_count": null,
   "metadata": {},
   "outputs": [],
   "source": [
    "T = clim$JA_TX.Lufttemperatur_Max"
   ]
  },
  {
   "cell_type": "markdown",
   "metadata": {},
   "source": [
    "Ein erster Überblick über die Daten liefert ein einfacher Plot. Wir plotten die Temperaturen `T` gegen das jeweilige Messdatum. Zudem stellen wir die Daten in einem Histogramm dar."
   ]
  },
  {
   "cell_type": "code",
   "execution_count": null,
   "metadata": {},
   "outputs": [],
   "source": [
    "par(mfrow = c(1,2), mar=c(4,10,4,4))\n",
    "options(repr.plot.width = 15)\n",
    "plot(clim$MESS_DATUM, T, xlab = \"Jahr der Messung\", ylab = \"max. Temperatur\", las = 2, col = \"steelblue\", pch = 16)\n",
    "hist(T, xlab = \"max. Temperatur\", ylab = \"Häufigkeit\", col = \"steelblue\")"
   ]
  },
  {
   "cell_type": "markdown",
   "metadata": {},
   "source": [
    "---\n",
    "\n",
    "### Rangwerte\n",
    "\n",
    "Die Rangwerte von `T` lassen sich durch die Sortierfunktion `sort` erhalten."
   ]
  },
  {
   "cell_type": "code",
   "execution_count": null,
   "metadata": {},
   "outputs": [],
   "source": [
    "plot(sort(T), ylab = \"max. Temperatur\", pch = 16, col = \"steelblue\")"
   ]
  },
  {
   "cell_type": "markdown",
   "metadata": {},
   "source": [
    "---\n",
    "\n",
    "### Quantile\n",
    "\n",
    "Die Quantile der Daten sind"
   ]
  },
  {
   "cell_type": "code",
   "execution_count": null,
   "metadata": {},
   "outputs": [],
   "source": [
    "quantile(T)"
   ]
  },
  {
   "cell_type": "markdown",
   "metadata": {},
   "source": [
    "Das Problem hier ist, dass `T` einträge vom Typ `NA` enthält. `NA` steht für *not available* und meint, dass der jeweilige Datenpunkt nicht verfügbar ist. Im Plot oben sehen wir eine grosse Lücke um das Jahr 1920.\n",
    "\n",
    "Wir müssen die Daten zunächst filtern:"
   ]
  },
  {
   "cell_type": "code",
   "execution_count": null,
   "metadata": {},
   "outputs": [],
   "source": [
    "T_filtered = T[!is.na(T)]"
   ]
  },
  {
   "cell_type": "markdown",
   "metadata": {},
   "source": [
    "Jetzt funktioniert die Berechnung der Quantile."
   ]
  },
  {
   "cell_type": "code",
   "execution_count": null,
   "metadata": {},
   "outputs": [],
   "source": [
    "q = quantile(T_filtered)\n",
    "q"
   ]
  },
  {
   "cell_type": "markdown",
   "metadata": {},
   "source": [
    "Die Quartile erhalten wir dann wie folgt:"
   ]
  },
  {
   "cell_type": "code",
   "execution_count": null,
   "metadata": {},
   "outputs": [],
   "source": [
    "unteres_quartil = q[2]\n",
    "oberes_quartil = q[4]"
   ]
  },
  {
   "cell_type": "markdown",
   "metadata": {},
   "source": [
    "---\n",
    "\n",
    "### Mittelwerte und Median\n",
    "\n",
    "Der Mittelwert der Daten `T` ist:"
   ]
  },
  {
   "cell_type": "code",
   "execution_count": null,
   "metadata": {},
   "outputs": [],
   "source": [
    "m = mean(T_filtered)\n",
    "m"
   ]
  },
  {
   "cell_type": "markdown",
   "metadata": {},
   "source": [
    "Der Median der Daten ist"
   ]
  },
  {
   "cell_type": "code",
   "execution_count": null,
   "metadata": {},
   "outputs": [],
   "source": [
    "med = median(T_filtered)\n",
    "med"
   ]
  },
  {
   "cell_type": "markdown",
   "metadata": {},
   "source": [
    "---\n",
    "\n",
    "### Standardabweichung und Varianz\n",
    "\n",
    "Die Standardabweichung der Daten `T` ist:"
   ]
  },
  {
   "cell_type": "code",
   "execution_count": null,
   "metadata": {},
   "outputs": [],
   "source": [
    "s = sd(T_filtered)\n",
    "s"
   ]
  },
  {
   "cell_type": "markdown",
   "metadata": {},
   "source": [
    "Die Varianz ist"
   ]
  },
  {
   "cell_type": "code",
   "execution_count": null,
   "metadata": {},
   "outputs": [],
   "source": [
    "v = var(T_filtered)\n",
    "v"
   ]
  },
  {
   "cell_type": "markdown",
   "metadata": {},
   "source": [
    "Wir plotten Mittelwert, Median, Standardabweichung und die Quartile in einem Histogramm zusammen mit den Daten."
   ]
  },
  {
   "cell_type": "code",
   "execution_count": null,
   "metadata": {},
   "outputs": [],
   "source": [
    "hist(T, xlab = \"Temperatur\", ylab = \"Häufigkeit\", col = \"steelblue\")\n",
    "# mittelwert und median\n",
    "lines(c(m,m), c(-1,18), col = \"red\", lw = 5)\n",
    "lines(c(med,med), c(-1,18), col = \"orange\", lw = 5)\n",
    "# quartile\n",
    "lines(c(unteres_quartil,unteres_quartil), c(-1,18), col = \"grey\", lw = 5)\n",
    "lines(c(oberes_quartil,oberes_quartil), c(-1,18), col = \"grey\", lw = 5)\n",
    "#standardabweichung\n",
    "lines(c(m-s,m+s), c(18,18), col = \"black\", lw = 5)\n",
    "#text\n",
    "text(15.5,16.5, label = \n",
    "    \"Rot: Mittelwert.\n",
    "    Orange: Median.\n",
    "    Grau: Quartile.\n",
    "    Schwarz: Mittelwert\\n plus-minus Standardabweichung\", \n",
    "    cex = 1.5)"
   ]
  },
  {
   "cell_type": "markdown",
   "metadata": {},
   "source": [
    "---\n",
    "\n",
    "### Boxplots\n",
    "\n",
    "Eine Alternative Visualisierung der Kennzahlen sind Boxplots:"
   ]
  },
  {
   "cell_type": "code",
   "execution_count": null,
   "metadata": {},
   "outputs": [],
   "source": [
    "boxplot(T, horizontal = TRUE, col = \"indianred\")"
   ]
  }
 ],
 "metadata": {
  "kernelspec": {
   "display_name": "R",
   "language": "R",
   "name": "ir"
  },
  "language_info": {
   "codemirror_mode": "r",
   "file_extension": ".r",
   "mimetype": "text/x-r-source",
   "name": "R",
   "pygments_lexer": "r",
   "version": "3.6.1"
  }
 },
 "nbformat": 4,
 "nbformat_minor": 4
}
