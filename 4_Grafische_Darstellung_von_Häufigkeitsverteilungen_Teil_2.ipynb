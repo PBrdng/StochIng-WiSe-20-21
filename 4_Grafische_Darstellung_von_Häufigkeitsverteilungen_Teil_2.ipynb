{
 "cells": [
  {
   "cell_type": "markdown",
   "metadata": {},
   "source": [
    "# Grafische Darstellung von Häufigkeitsverteilungen. Teil 2"
   ]
  },
  {
   "cell_type": "markdown",
   "metadata": {},
   "source": [
    "Wir wollen echte Daten von Twitter visualisieren. Dazu wird das Pckage `rtweet`(www.rdocumentation.org/packages/rtweet/) benutzt:"
   ]
  },
  {
   "cell_type": "code",
   "execution_count": null,
   "metadata": {},
   "outputs": [],
   "source": [
    "install.packages(\"rtweet\")\n",
    "library(rtweet)"
   ]
  },
  {
   "cell_type": "markdown",
   "metadata": {},
   "source": [
    "---\n",
    "\n",
    "Die Uni kassel ist unter @presseunikassel auf Twitter. \n",
    "\n",
    "Wir die letzten 100 Tweets, die @presseunikassel enthalten."
   ]
  },
  {
   "cell_type": "code",
   "execution_count": null,
   "metadata": {},
   "outputs": [],
   "source": [
    "tweets = search_tweets( \"@presseunikassel\", n = 100)"
   ]
  },
  {
   "cell_type": "markdown",
   "metadata": {},
   "source": [
    "`tweets`enthällt nun alle relevanten Informationen in einem `data.frame`. \n",
    "\n",
    "Wir können mit Hilfe von `names` sehen, welche Merkmale in `tweets`enthalten sind:"
   ]
  },
  {
   "cell_type": "code",
   "execution_count": null,
   "metadata": {},
   "outputs": [],
   "source": [
    "names(tweets)"
   ]
  },
  {
   "cell_type": "markdown",
   "metadata": {},
   "source": [
    "---\n",
    "\n",
    "Ein nominales Merkmal ist die App, mit der ein Tweet abgesetzt wurde. Diese sind im Merkmal `source` enthalten."
   ]
  },
  {
   "cell_type": "code",
   "execution_count": null,
   "metadata": {},
   "outputs": [],
   "source": [
    "src = tweets$source\n",
    "src"
   ]
  },
  {
   "cell_type": "markdown",
   "metadata": {},
   "source": [
    "Wir plotten die Häufigkeiten von `src`mit einem `barplot`:"
   ]
  },
  {
   "cell_type": "code",
   "execution_count": null,
   "metadata": {},
   "outputs": [],
   "source": [
    "par(mar=c(4,10,4,4)+.1) # um die margins anzupassen\n",
    "barplot(table(src), xlab = \"absolute Häufigkeit\", las = 2, horiz=TRUE, space = 1) \n",
    "#horiz = TRUE für einen horizontalen Plot, space kontrolliert den Abstand zwischen den Bars"
   ]
  },
  {
   "cell_type": "markdown",
   "metadata": {},
   "source": [
    "---\n",
    "\n",
    "Ein weiteres nominales Merkmal ist `name`:"
   ]
  },
  {
   "cell_type": "code",
   "execution_count": null,
   "metadata": {},
   "outputs": [],
   "source": [
    "names = tweets$name\n",
    "par(mar=c(4,12,4,1)) # um die margins anzupassen\n",
    "barplot(table(names), space = 2, horiz=TRUE, las = 2, xlab = \"absolute Häufigkeiten\")"
   ]
  },
  {
   "cell_type": "markdown",
   "metadata": {},
   "source": [
    "---\n",
    "\n",
    "Ein quantitatives Merkmal ist `created_at`. \n",
    "\n",
    "Wir visualisieren es mit einem Histogramm."
   ]
  },
  {
   "cell_type": "code",
   "execution_count": null,
   "metadata": {},
   "outputs": [],
   "source": [
    "times = tweets$created_at\n",
    "times"
   ]
  },
  {
   "cell_type": "markdown",
   "metadata": {},
   "source": [
    "`times`ist nicht vom Typ `numeric`. Wir konvertieren es wie folgt:"
   ]
  },
  {
   "cell_type": "code",
   "execution_count": null,
   "metadata": {},
   "outputs": [],
   "source": [
    "times_as_numeric = as.numeric(times) \n",
    "times_as_numeric"
   ]
  },
  {
   "cell_type": "markdown",
   "metadata": {},
   "source": [
    "Wir wollen `times_as_numeric` in einem Histogramm plotten, aber gleichzeitig für die Beschriftung der $x$-Achse die Werte aus `times`nehmen.\n",
    "\n",
    "Dazu definieren wir zwei Vektoren der gleichen Länge, einen für `breaks` und einen, der die entsprechenden Labels aus `times` beinhaltet:"
   ]
  },
  {
   "cell_type": "code",
   "execution_count": null,
   "metadata": {},
   "outputs": [],
   "source": [
    "number_of_breaks = 10\n",
    "mybreaks = seq(min(times_as_numeric), max(times_as_numeric), length.out = number_of_breaks)\n",
    "mylabels = times[seq.int(1, length(times), length.out = number_of_breaks)]"
   ]
  },
  {
   "cell_type": "markdown",
   "metadata": {},
   "source": [
    "Jetzt kkönnen wir das Histogramm plotten. Der Befehl `axes = FALSE` löscht die Axenbeschriftung. Diese wird danach manuell neu definiert."
   ]
  },
  {
   "cell_type": "code",
   "execution_count": null,
   "metadata": {},
   "outputs": [],
   "source": [
    "par(mar=c(12,4,4,1)) # um die margins anzupassen\n",
    "hist(times_as_numeric, breaks = mybreaks, axes=FALSE, xlab = \"\", ylab = \"Häufigkeiten\", col = \"grey\")\n",
    "axis(1, at = mybreaks, label = mylabels, las = 2) # für die x-Achse\n",
    "axis(2) # für die y-Achse"
   ]
  },
  {
   "cell_type": "markdown",
   "metadata": {},
   "source": [
    "---"
   ]
  },
  {
   "cell_type": "markdown",
   "metadata": {},
   "source": [
    "Die empirische Verteilungsfunktion von `times`sieht dann wie folgt aus."
   ]
  },
  {
   "cell_type": "code",
   "execution_count": null,
   "metadata": {},
   "outputs": [],
   "source": [
    "par(mar=c(12,4,4,1)) # um die margins anzupassen\n",
    "F = ecdf(times_as_numeric)\n",
    "plot(F, main = \"empirische Verteilungsfunktion\", axes=FALSE, xlab = \"\")\n",
    "axis(1, at = mybreaks, label = mylabels, las = 2) # für die x-Achse\n",
    "axis(2) # für die y-Achse"
   ]
  },
  {
   "cell_type": "markdown",
   "metadata": {},
   "source": [
    "---"
   ]
  }
 ],
 "metadata": {
  "kernelspec": {
   "display_name": "R",
   "language": "R",
   "name": "ir"
  },
  "language_info": {
   "codemirror_mode": "r",
   "file_extension": ".r",
   "mimetype": "text/x-r-source",
   "name": "R",
   "pygments_lexer": "r",
   "version": "3.6.1"
  }
 },
 "nbformat": 4,
 "nbformat_minor": 4
}
